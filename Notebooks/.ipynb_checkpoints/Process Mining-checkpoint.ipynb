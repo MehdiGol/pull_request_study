{
 "cells": [
  {
   "cell_type": "code",
   "execution_count": null,
   "metadata": {},
   "outputs": [],
   "source": [
    "import os\n",
    "from pm4py.objects.log.importer.xes import factory as xes_import_factory\n",
    "\n",
    "parameters = {\"timestamp_sort\": True}\n",
    "\n",
    "log = xes_import_factory.apply(\"../data/prlog-servo.xes\", variant=\"nonstandard\", parameters=parameters)"
   ]
  },
  {
   "cell_type": "code",
   "execution_count": null,
   "metadata": {},
   "outputs": [],
   "source": [
    "from pm4py.algo.discovery.alpha import factory as alpha_miner\n",
    "\n",
    "net, initial_marking, final_marking = alpha_miner.apply(log)"
   ]
  },
  {
   "cell_type": "code",
   "execution_count": null,
   "metadata": {},
   "outputs": [],
   "source": [
    "from pm4py.visualization.petrinet import factory as pn_vis_factory\n",
    "\n",
    "gviz = pn_vis_factory.apply(net, initial_marking, final_marking)\n",
    "pn_vis_factory.view(gviz)"
   ]
  },
  {
   "cell_type": "code",
   "execution_count": null,
   "metadata": {},
   "outputs": [],
   "source": [
    "from pm4py.visualization.heuristics_net import factory as hn_vis_factory\n",
    "gviz = hn_vis_factory.apply(heu_net)\n",
    "hn_vis_factory.view(gviz)"
   ]
  }
 ],
 "metadata": {
  "kernelspec": {
   "display_name": "Python 3",
   "language": "python",
   "name": "python3"
  },
  "language_info": {
   "codemirror_mode": {
    "name": "ipython",
    "version": 3
   },
   "file_extension": ".py",
   "mimetype": "text/x-python",
   "name": "python",
   "nbconvert_exporter": "python",
   "pygments_lexer": "ipython3",
   "version": "3.7.3"
  }
 },
 "nbformat": 4,
 "nbformat_minor": 2
}
