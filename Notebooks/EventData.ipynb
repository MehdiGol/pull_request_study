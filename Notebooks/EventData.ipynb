{
 "cells": [
  {
   "cell_type": "code",
   "execution_count": 2,
   "metadata": {},
   "outputs": [],
   "source": [
    "import pandas\n",
    "import matplotlib.pyplot as plt\n",
    "import seaborn\n",
    "import collections\n",
    "import itertools\n",
    "import numpy as np\n",
    "import warnings\n",
    "import subprocess\n",
    "import requests\n",
    "import lifelines\n",
    "\n",
    "\n",
    "import sys\n",
    "sys.path.append('..')\n",
    "\n",
    "warnings.filterwarnings('ignore')\n",
    "\n",
    "%matplotlib inline"
   ]
  },
  {
   "cell_type": "markdown",
   "metadata": {},
   "source": [
    "### Load Commits"
   ]
  },
  {
   "cell_type": "code",
   "execution_count": 3,
   "metadata": {},
   "outputs": [
    {
     "data": {
      "text/html": [
       "<div>\n",
       "<style scoped>\n",
       "    .dataframe tbody tr th:only-of-type {\n",
       "        vertical-align: middle;\n",
       "    }\n",
       "\n",
       "    .dataframe tbody tr th {\n",
       "        vertical-align: top;\n",
       "    }\n",
       "\n",
       "    .dataframe thead th {\n",
       "        text-align: right;\n",
       "    }\n",
       "</style>\n",
       "<table border=\"1\" class=\"dataframe\">\n",
       "  <thead>\n",
       "    <tr style=\"text-align: right;\">\n",
       "      <th></th>\n",
       "      <th>Unnamed: 0</th>\n",
       "      <th>author_email</th>\n",
       "      <th>author_name</th>\n",
       "      <th>commit_date</th>\n",
       "      <th>committer_email</th>\n",
       "      <th>committer_name</th>\n",
       "      <th>project_name</th>\n",
       "    </tr>\n",
       "    <tr>\n",
       "      <th>commit_hash</th>\n",
       "      <th></th>\n",
       "      <th></th>\n",
       "      <th></th>\n",
       "      <th></th>\n",
       "      <th></th>\n",
       "      <th></th>\n",
       "      <th></th>\n",
       "    </tr>\n",
       "  </thead>\n",
       "  <tbody>\n",
       "    <tr>\n",
       "      <th>cbed88c2606aae9dd721fae9f5e5cead4df01f00</th>\n",
       "      <td>0</td>\n",
       "      <td>eduard.bopp@aepsil0n.de</td>\n",
       "      <td>Eduard Bopp</td>\n",
       "      <td>2017-09-22 13:44:19</td>\n",
       "      <td>eduard.bopp@aepsil0n.de</td>\n",
       "      <td>Eduard Bopp</td>\n",
       "      <td>https://github.com/aepsil0n/acacia</td>\n",
       "    </tr>\n",
       "    <tr>\n",
       "      <th>561136bebb18ae6769f282f331df02d499e7f382</th>\n",
       "      <td>1</td>\n",
       "      <td>eduard.bopp@aepsil0n.de</td>\n",
       "      <td>Eduard Bopp</td>\n",
       "      <td>2017-09-22 13:43:45</td>\n",
       "      <td>eduard.bopp@aepsil0n.de</td>\n",
       "      <td>Eduard Bopp</td>\n",
       "      <td>https://github.com/aepsil0n/acacia</td>\n",
       "    </tr>\n",
       "    <tr>\n",
       "      <th>0f334c8b1ebfb10c17a46cb6d1e0b656abc397ed</th>\n",
       "      <td>2</td>\n",
       "      <td>code@andre-bubel.de</td>\n",
       "      <td>Andr\\xc3\\xa9-Patrick Bubel</td>\n",
       "      <td>2017-02-26 16:30:54</td>\n",
       "      <td>code@andre-bubel.de</td>\n",
       "      <td>Andr\\xc3\\xa9-Patrick Bubel</td>\n",
       "      <td>https://github.com/aepsil0n/acacia</td>\n",
       "    </tr>\n",
       "    <tr>\n",
       "      <th>486c9edd907105cc989b9ae05299b68ecde7fbfe</th>\n",
       "      <td>3</td>\n",
       "      <td>github@andre-bubel.de</td>\n",
       "      <td>Andr\\xc3\\xa9-Patrick Bubel</td>\n",
       "      <td>2017-02-26 16:28:36</td>\n",
       "      <td>noreply@github.com</td>\n",
       "      <td>GitHub</td>\n",
       "      <td>https://github.com/aepsil0n/acacia</td>\n",
       "    </tr>\n",
       "    <tr>\n",
       "      <th>2f46bc1585103106deb87213b3db547a1d922898</th>\n",
       "      <td>4</td>\n",
       "      <td>carol.nichols@gmail.com</td>\n",
       "      <td>Carol (Nichols || Goulding)</td>\n",
       "      <td>2017-02-26 09:46:52</td>\n",
       "      <td>noreply@github.com</td>\n",
       "      <td>GitHub</td>\n",
       "      <td>https://github.com/aepsil0n/acacia</td>\n",
       "    </tr>\n",
       "  </tbody>\n",
       "</table>\n",
       "</div>"
      ],
      "text/plain": [
       "                                          Unnamed: 0             author_email  \\\n",
       "commit_hash                                                                     \n",
       "cbed88c2606aae9dd721fae9f5e5cead4df01f00           0  eduard.bopp@aepsil0n.de   \n",
       "561136bebb18ae6769f282f331df02d499e7f382           1  eduard.bopp@aepsil0n.de   \n",
       "0f334c8b1ebfb10c17a46cb6d1e0b656abc397ed           2      code@andre-bubel.de   \n",
       "486c9edd907105cc989b9ae05299b68ecde7fbfe           3    github@andre-bubel.de   \n",
       "2f46bc1585103106deb87213b3db547a1d922898           4  carol.nichols@gmail.com   \n",
       "\n",
       "                                                          author_name  \\\n",
       "commit_hash                                                             \n",
       "cbed88c2606aae9dd721fae9f5e5cead4df01f00                  Eduard Bopp   \n",
       "561136bebb18ae6769f282f331df02d499e7f382                  Eduard Bopp   \n",
       "0f334c8b1ebfb10c17a46cb6d1e0b656abc397ed   Andr\\xc3\\xa9-Patrick Bubel   \n",
       "486c9edd907105cc989b9ae05299b68ecde7fbfe   Andr\\xc3\\xa9-Patrick Bubel   \n",
       "2f46bc1585103106deb87213b3db547a1d922898  Carol (Nichols || Goulding)   \n",
       "\n",
       "                                                 commit_date  \\\n",
       "commit_hash                                                    \n",
       "cbed88c2606aae9dd721fae9f5e5cead4df01f00 2017-09-22 13:44:19   \n",
       "561136bebb18ae6769f282f331df02d499e7f382 2017-09-22 13:43:45   \n",
       "0f334c8b1ebfb10c17a46cb6d1e0b656abc397ed 2017-02-26 16:30:54   \n",
       "486c9edd907105cc989b9ae05299b68ecde7fbfe 2017-02-26 16:28:36   \n",
       "2f46bc1585103106deb87213b3db547a1d922898 2017-02-26 09:46:52   \n",
       "\n",
       "                                                  committer_email  \\\n",
       "commit_hash                                                         \n",
       "cbed88c2606aae9dd721fae9f5e5cead4df01f00  eduard.bopp@aepsil0n.de   \n",
       "561136bebb18ae6769f282f331df02d499e7f382  eduard.bopp@aepsil0n.de   \n",
       "0f334c8b1ebfb10c17a46cb6d1e0b656abc397ed      code@andre-bubel.de   \n",
       "486c9edd907105cc989b9ae05299b68ecde7fbfe       noreply@github.com   \n",
       "2f46bc1585103106deb87213b3db547a1d922898       noreply@github.com   \n",
       "\n",
       "                                                      committer_name  \\\n",
       "commit_hash                                                            \n",
       "cbed88c2606aae9dd721fae9f5e5cead4df01f00                 Eduard Bopp   \n",
       "561136bebb18ae6769f282f331df02d499e7f382                 Eduard Bopp   \n",
       "0f334c8b1ebfb10c17a46cb6d1e0b656abc397ed  Andr\\xc3\\xa9-Patrick Bubel   \n",
       "486c9edd907105cc989b9ae05299b68ecde7fbfe                      GitHub   \n",
       "2f46bc1585103106deb87213b3db547a1d922898                      GitHub   \n",
       "\n",
       "                                                                project_name  \n",
       "commit_hash                                                                   \n",
       "cbed88c2606aae9dd721fae9f5e5cead4df01f00  https://github.com/aepsil0n/acacia  \n",
       "561136bebb18ae6769f282f331df02d499e7f382  https://github.com/aepsil0n/acacia  \n",
       "0f334c8b1ebfb10c17a46cb6d1e0b656abc397ed  https://github.com/aepsil0n/acacia  \n",
       "486c9edd907105cc989b9ae05299b68ecde7fbfe  https://github.com/aepsil0n/acacia  \n",
       "2f46bc1585103106deb87213b3db547a1d922898  https://github.com/aepsil0n/acacia  "
      ]
     },
     "execution_count": 3,
     "metadata": {},
     "output_type": "execute_result"
    }
   ],
   "source": [
    "Cts = pandas.read_csv('../data/commits.csv.gz',\n",
    "                    parse_dates=['commit_date'],\n",
    "                    date_parser= lambda col: pandas.to_datetime(col).tz_localize(None))\n",
    "Cts = Cts.set_index('commit_hash')\n",
    "Cts.head()"
   ]
  },
  {
   "cell_type": "markdown",
   "metadata": {},
   "source": [
    "### Load Pull Requests"
   ]
  },
  {
   "cell_type": "code",
   "execution_count": 4,
   "metadata": {},
   "outputs": [
    {
     "data": {
      "text/html": [
       "<div>\n",
       "<style scoped>\n",
       "    .dataframe tbody tr th:only-of-type {\n",
       "        vertical-align: middle;\n",
       "    }\n",
       "\n",
       "    .dataframe tbody tr th {\n",
       "        vertical-align: top;\n",
       "    }\n",
       "\n",
       "    .dataframe thead th {\n",
       "        text-align: right;\n",
       "    }\n",
       "</style>\n",
       "<table border=\"1\" class=\"dataframe\">\n",
       "  <thead>\n",
       "    <tr style=\"text-align: right;\">\n",
       "      <th></th>\n",
       "      <th>pr_id</th>\n",
       "      <th>project_name</th>\n",
       "      <th>user_login</th>\n",
       "      <th>created_at</th>\n",
       "      <th>merged_at</th>\n",
       "      <th>closed_at</th>\n",
       "      <th>merge_commit_sha</th>\n",
       "    </tr>\n",
       "  </thead>\n",
       "  <tbody>\n",
       "    <tr>\n",
       "      <th>0</th>\n",
       "      <td>94.0</td>\n",
       "      <td>https://github.com/aepsil0n/acacia</td>\n",
       "      <td>carols10cents</td>\n",
       "      <td>2017-02-26 14:51:23</td>\n",
       "      <td>2017-02-26 15:28:37</td>\n",
       "      <td>2017-02-26 15:28:37</td>\n",
       "      <td>486c9edd907105cc989b9ae05299b68ecde7fbfe</td>\n",
       "    </tr>\n",
       "    <tr>\n",
       "      <th>1</th>\n",
       "      <td>93.0</td>\n",
       "      <td>https://github.com/aepsil0n/acacia</td>\n",
       "      <td>Moredread</td>\n",
       "      <td>2017-01-08 18:01:04</td>\n",
       "      <td>2017-01-13 11:11:27</td>\n",
       "      <td>2017-01-13 11:11:27</td>\n",
       "      <td>6b174c9af91c48008548074e788f106c17cc4d3d</td>\n",
       "    </tr>\n",
       "    <tr>\n",
       "      <th>2</th>\n",
       "      <td>91.0</td>\n",
       "      <td>https://github.com/aepsil0n/acacia</td>\n",
       "      <td>Moredread</td>\n",
       "      <td>2016-09-16 07:25:12</td>\n",
       "      <td>2016-09-16 20:41:32</td>\n",
       "      <td>2016-09-16 20:41:32</td>\n",
       "      <td>7a47ac25ca172d0af73e8845db89d418a0479bb4</td>\n",
       "    </tr>\n",
       "    <tr>\n",
       "      <th>3</th>\n",
       "      <td>90.0</td>\n",
       "      <td>https://github.com/aepsil0n/acacia</td>\n",
       "      <td>Moredread</td>\n",
       "      <td>2016-09-16 07:02:06</td>\n",
       "      <td>2016-09-16 20:45:28</td>\n",
       "      <td>2016-09-16 20:45:28</td>\n",
       "      <td>e1c518f2cfa22634d2510a6d9d06cb4dcf346000</td>\n",
       "    </tr>\n",
       "    <tr>\n",
       "      <th>4</th>\n",
       "      <td>89.0</td>\n",
       "      <td>https://github.com/aepsil0n/acacia</td>\n",
       "      <td>Moredread</td>\n",
       "      <td>2016-09-16 06:54:41</td>\n",
       "      <td>2016-09-16 20:43:22</td>\n",
       "      <td>2016-09-16 20:43:22</td>\n",
       "      <td>c594be4bfe08e92e360578841877354cc3a4d12e</td>\n",
       "    </tr>\n",
       "  </tbody>\n",
       "</table>\n",
       "</div>"
      ],
      "text/plain": [
       "   pr_id                        project_name     user_login  \\\n",
       "0   94.0  https://github.com/aepsil0n/acacia  carols10cents   \n",
       "1   93.0  https://github.com/aepsil0n/acacia      Moredread   \n",
       "2   91.0  https://github.com/aepsil0n/acacia      Moredread   \n",
       "3   90.0  https://github.com/aepsil0n/acacia      Moredread   \n",
       "4   89.0  https://github.com/aepsil0n/acacia      Moredread   \n",
       "\n",
       "           created_at           merged_at           closed_at  \\\n",
       "0 2017-02-26 14:51:23 2017-02-26 15:28:37 2017-02-26 15:28:37   \n",
       "1 2017-01-08 18:01:04 2017-01-13 11:11:27 2017-01-13 11:11:27   \n",
       "2 2016-09-16 07:25:12 2016-09-16 20:41:32 2016-09-16 20:41:32   \n",
       "3 2016-09-16 07:02:06 2016-09-16 20:45:28 2016-09-16 20:45:28   \n",
       "4 2016-09-16 06:54:41 2016-09-16 20:43:22 2016-09-16 20:43:22   \n",
       "\n",
       "                           merge_commit_sha  \n",
       "0  486c9edd907105cc989b9ae05299b68ecde7fbfe  \n",
       "1  6b174c9af91c48008548074e788f106c17cc4d3d  \n",
       "2  7a47ac25ca172d0af73e8845db89d418a0479bb4  \n",
       "3  e1c518f2cfa22634d2510a6d9d06cb4dcf346000  \n",
       "4  c594be4bfe08e92e360578841877354cc3a4d12e  "
      ]
     },
     "execution_count": 4,
     "metadata": {},
     "output_type": "execute_result"
    }
   ],
   "source": [
    "Prs = pandas.read_csv('../data/pullrequests.csv.gz',\n",
    "                    parse_dates=['closed_at','created_at','merged_at','updated_at'],\n",
    "                    date_parser= lambda col: pandas.to_datetime(col).tz_localize(None))[['pr_id','project_name','user_login','created_at','merged_at','closed_at','merge_commit_sha']]\n",
    "Prs.head()"
   ]
  },
  {
   "cell_type": "markdown",
   "metadata": {},
   "source": [
    "#### Find commiter of each pull request (if exist)"
   ]
  },
  {
   "cell_type": "code",
   "execution_count": 5,
   "metadata": {},
   "outputs": [],
   "source": [
    "def getcommiter(row):\n",
    "    if pandas.isnull(row['merge_commit_sha']):\n",
    "        return np.nan\n",
    "    if row['merge_commit_sha'] in Cts.index :\n",
    "        return Cts.loc[row['merge_commit_sha']].committer_name\n",
    "    return np.nan\n",
    "    \n",
    "\n",
    "Prs['committer'] = Prs.apply(lambda x: getcommiter(x),axis = 1)"
   ]
  },
  {
   "cell_type": "markdown",
   "metadata": {},
   "source": [
    "### Melting dataframe to have records for (final state of pr)"
   ]
  },
  {
   "cell_type": "code",
   "execution_count": 7,
   "metadata": {},
   "outputs": [],
   "source": [
    "Prs = Prs.drop('merge_commit_sha',axis=1)\n",
    "df_tmp = pandas.melt(Prs,id_vars=['pr_id','project_name','user_login','committer','merged_at'],var_name ='Event', value_name ='time').sort_values('time')"
   ]
  },
  {
   "cell_type": "code",
   "execution_count": 8,
   "metadata": {},
   "outputs": [],
   "source": [
    "def checkevent(row):\n",
    "    if(row['Event'] == 'created_at'):\n",
    "        return 'created'\n",
    "    elif (row['Event'] == 'closed_at' and pandas.isnull(row['time']) and pandas.isnull(row['merged_at'])):\n",
    "        return 'open'\n",
    "    elif (row['Event'] == 'closed_at' and pandas.notnull(row['merged_at']) ):\n",
    "        return 'accepted'\n",
    "    else:\n",
    "        return 'rejected'\n",
    "df_tmp['concept'] = df_tmp.apply(lambda x: checkevent(x),axis = 1)"
   ]
  },
  {
   "cell_type": "code",
   "execution_count": 9,
   "metadata": {},
   "outputs": [],
   "source": [
    "for i, row in df_tmp.iterrows():\n",
    "    if pandas.isnull(df_tmp.at[i,'time']):\n",
    "        df_tmp.at[i,'time'] = df_tmp.time.max()"
   ]
  },
  {
   "cell_type": "markdown",
   "metadata": {},
   "source": [
    "### Load Comments"
   ]
  },
  {
   "cell_type": "code",
   "execution_count": 11,
   "metadata": {},
   "outputs": [],
   "source": [
    "Cms = pandas.read_csv('../data/pulls_comments.csv.gz',\n",
    "                      parse_dates=['created_at','updated_at'],\n",
    "                    date_parser= lambda col: pandas.to_datetime(col).tz_localize(None))[['issue_number','project_name','user_login','created_at']]\n",
    "Cms = Cms.rename({'issue_number':'pr_id','created_at':'time'},axis=1).assign(concept='commented')"
   ]
  },
  {
   "cell_type": "code",
   "execution_count": 12,
   "metadata": {},
   "outputs": [
    {
     "data": {
      "text/plain": [
       "(707530, 5)"
      ]
     },
     "execution_count": 12,
     "metadata": {},
     "output_type": "execute_result"
    }
   ],
   "source": [
    "Cms.shape"
   ]
  },
  {
   "cell_type": "markdown",
   "metadata": {},
   "source": [
    "#### Check if user is also contributor or not"
   ]
  },
  {
   "cell_type": "code",
   "execution_count": 13,
   "metadata": {},
   "outputs": [],
   "source": [
    "exitingcms = Cms[Cms['user_login'].isin( Prs.user_login)]"
   ]
  },
  {
   "cell_type": "code",
   "execution_count": 14,
   "metadata": {},
   "outputs": [],
   "source": [
    "exitingcms.pr_id = exitingcms.pr_id.astype(int)\n",
    "df_tmp.pr_id = df_tmp.pr_id.astype(int)"
   ]
  },
  {
   "cell_type": "markdown",
   "metadata": {},
   "source": [
    "### concat comments and prs"
   ]
  },
  {
   "cell_type": "code",
   "execution_count": 15,
   "metadata": {},
   "outputs": [],
   "source": [
    "df_xes = (\n",
    "    pandas\n",
    "    .concat([df_tmp[['pr_id','project_name','user_login','committer','time','concept']],exitingcms])\n",
    "    [['pr_id','project_name','user_login','committer','time','concept']]\n",
    "    .sort_values('time')\n",
    "    .rename({'project_name':'case:concept:name','time':'time:timestamp','concept':'concept:name'},axis = 1)\n",
    ")\n",
    "#df_xes['org:resource'] = df_xes['user_login']"
   ]
  },
  {
   "cell_type": "markdown",
   "metadata": {},
   "source": [
    "##### load previously saved file because creating it is time consuming"
   ]
  },
  {
   "cell_type": "code",
   "execution_count": 16,
   "metadata": {},
   "outputs": [],
   "source": [
    "df = pandas.read_csv('../data/prlog1.csv')"
   ]
  },
  {
   "cell_type": "code",
   "execution_count": 17,
   "metadata": {},
   "outputs": [],
   "source": [
    "def addlifecycle(row):\n",
    "    if row['concept:name'] == 'created':\n",
    "        return 'complete'\n",
    "    elif row['concept:name'] == 'commented':\n",
    "        return 'complete'\n",
    "    elif row['concept:name'] == 'rejected' or row['concept:name'] == 'accepted' or row['concept:name'] == 'open':\n",
    "        return 'complete'\n",
    "df['lifecycle:transition'] = df.apply(lambda x: addlifecycle(x),axis=1)"
   ]
  },
  {
   "cell_type": "code",
   "execution_count": 18,
   "metadata": {},
   "outputs": [],
   "source": [
    "df_tmp = df.rename({'user_login':'org:resource','case:concept:name':'project'},axis=1)"
   ]
  },
  {
   "cell_type": "code",
   "execution_count": 19,
   "metadata": {},
   "outputs": [],
   "source": [
    "df_tmp.pr_id = df_tmp.pr_id.astype(str)\n",
    "df_tmp['case:concept:name'] = df_tmp['project'] +\"|\" + df_tmp['pr_id']"
   ]
  },
  {
   "cell_type": "code",
   "execution_count": 34,
   "metadata": {},
   "outputs": [],
   "source": [
    "#### doing data cleaning ( there where a record with accepted status without being opened )"
   ]
  },
  {
   "cell_type": "code",
   "execution_count": 31,
   "metadata": {},
   "outputs": [],
   "source": [
    "df_tmp = (\n",
    "    df_tmp\n",
    "    .sort_values(['case:concept:name','time:timestamp'])\n",
    "    .drop(['pr_id','project'],axis=1)\n",
    "    .drop(224942)\n",
    "    .iloc[:,1:]\n",
    ")"
   ]
  },
  {
   "cell_type": "code",
   "execution_count": null,
   "metadata": {},
   "outputs": [],
   "source": [
    "df[lambda x: x['case:concept:name'] == 'https://github.com/servo/servo'].drop('case:concept:name',axis=1).to_csv('../data/prlog-servo.csv',index=False)"
   ]
  },
  {
   "cell_type": "code",
   "execution_count": 32,
   "metadata": {},
   "outputs": [],
   "source": [
    "from pm4py.objects.conversion.log import factory as conversion_factory\n",
    "\n",
    "log = conversion_factory.apply(df_tmp)"
   ]
  },
  {
   "cell_type": "code",
   "execution_count": 33,
   "metadata": {},
   "outputs": [],
   "source": [
    "from pm4py.objects.log.exporter.xes import factory as xes_exporter\n",
    "\n",
    "xes_exporter.export_log(log, \"../data/prlog_lifecycle.xes\")"
   ]
  },
  {
   "cell_type": "code",
   "execution_count": null,
   "metadata": {},
   "outputs": [],
   "source": [
    "log"
   ]
  }
 ],
 "metadata": {
  "kernelspec": {
   "display_name": "Python 3",
   "language": "python",
   "name": "python3"
  },
  "language_info": {
   "codemirror_mode": {
    "name": "ipython",
    "version": 3
   },
   "file_extension": ".py",
   "mimetype": "text/x-python",
   "name": "python",
   "nbconvert_exporter": "python",
   "pygments_lexer": "ipython3",
   "version": "3.7.3"
  }
 },
 "nbformat": 4,
 "nbformat_minor": 2
}
